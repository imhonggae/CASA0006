{
 "cells": [
  {
   "cell_type": "markdown",
   "id": "18a2d35b-e715-4900-b967-d018d39f1ac4",
   "metadata": {},
   "source": [
    "# **Using machine learning algorithms to predict the severity of traffic accidents in London**"
   ]
  },
  {
   "cell_type": "markdown",
   "id": "4a6442a3-8df6-4593-b687-1079e0c416c3",
   "metadata": {},
   "source": [
    "## Introduction"
   ]
  },
  {
   "cell_type": "markdown",
   "id": "a1527f07-dd79-4b23-86a1-f857fa824060",
   "metadata": {},
   "source": [
    "Road traffic accidents have a significant impact on the mortality rates of both developing and developed countries around the world. The World Health Organization points out that road traffic accidents are the main cause of death among young people (aged 5-29) (World Health Organization, 2023). About 1.19 million people die in road traffic accidents every year, which is equivalent to 3300 people dying every day due to traffic accidents. Moreover, the number of deaths from road traffic accidents is continuously increasing. By 2030, road traffic injuries will become the seventh leading cause of death globally (Ahmed, S. K et al., 2023). Although overall, the number of traffic accident fatalities in the UK has been decreasing since 1979, in recent years, particularly between 2021 and 2022, the reported number of road injuries in the UK has increased (Department for Transport, 2023). Studies have shown that the locations of road accidents are not random, and they are often highly concentrated in urban areas (Curiel, Ram í rez and Bishop, 2018). As the largest city in the UK, London faces busy traffic every day, which is the best research target. Therefore, we will predict the severity of road traffic accidents in London. These studies may help hospitals and traffic police departments optimize the deployment of emergency resources such as medical rescue and police."
   ]
  },
  {
   "cell_type": "markdown",
   "id": "a6b5f1ae-7b3c-427c-9367-90262ffee022",
   "metadata": {},
   "source": [
    "## Literature review"
   ]
  },
  {
   "cell_type": "markdown",
   "id": "8aa53202-4331-46c3-88fb-dd22cab46291",
   "metadata": {},
   "source": [
    "At present, there are already some studies on predicting road traffic accidents. Choosing which variables is a prerequisite for predicting the severity of traffic accidents, as these are inputs to the traffic accident severity prediction model. Yu et al. (2021) proposed a deep spatial-temporal graph convolutional network (DSTGCN) aimed at predicting the risk of future traffic accidents on specific road sections. They collect data related to traffic accidents, including weather conditions, traffic flow, road structure, and traffic accident records. And use it as input for the neural network model to explore spatial correlation and temporal dependence. For example, adverse weather conditions such as rain and snow can have a negative impact on the severity of traffic accidents (El Basyoung, 2014). Accidents that occur during the day cause less harm than those that occur at night, as reduced visibility can affect the driver's reaction speed, leading to accidents and even fatalities (Behnood and Al Badairi, 2020). Similarly, Liu et al. (2019) determined that lighting conditions are one of the important factors affecting the severity of nighttime traffic accidents in China. These factors all provide ideas for this study.\n",
    "\n",
    "In terms of research methods, decision tree is a machine learning model based on tree structure for decision-making, which recursively divides data into different categories (Quinlan, 1986). Moral Garc í a et al. (2019) proposed a method called Information Root Node Variation (IRNV) based on decision trees to predict the severity of accidents for novice drivers in urban areas. Kononen et al. (2011) developed a multivariate logistic regression model to predict the probability of a vehicle involved in a collision containing one or more serious or disabled occupants. Random Forest (RF) has also been proven to be useful for predicting the severity of traffic accidents (Mallahi et al., 2022). They compared the prediction accuracy of RF, Support Vector Machine (SVM), and Artificial Neural Network (ANN) and found that RF performs better in classifying and predicting the severity of traffic accidents. These studies indicate the possibility of using machine learning models to predict the severity of accidents based on data related to traffic accidents. But when using machine learning for prediction, multiple different models should be used to determine the most suitable method for this study by comparing their accuracy."
   ]
  },
  {
   "cell_type": "markdown",
   "id": "0bad9edb-039f-43bb-a656-ab0373a91d96",
   "metadata": {},
   "source": [
    "## Research question"
   ]
  },
  {
   "cell_type": "markdown",
   "id": "b251ed13-990b-4ab4-9bb9-8624a49fdc03",
   "metadata": {},
   "source": []
  },
  {
   "cell_type": "markdown",
   "id": "020a135a-ea74-4ccf-872a-b4e3e89f1dde",
   "metadata": {},
   "source": [
    "## Data Preprocessing"
   ]
  },
  {
   "cell_type": "markdown",
   "id": "ca292ca1-2e7a-44a0-a457-0af8025a6cdf",
   "metadata": {},
   "source": [
    "All the data used in this study were sourced from the UK Department of Transport (2023), an official website of a government agency with strong reliability in its data sources. This dataset records the severity, road conditions, and relevant environmental information of each traffic accident in the UK from 2018 to 2023. In this study, we will only select accidents within the London area for analysis."
   ]
  },
  {
   "cell_type": "markdown",
   "id": "5f3fd071-7626-42dd-a36f-95dfaf1c0551",
   "metadata": {},
   "source": [
    "Firstly, read our dataset, remove rows with empty values, and select the London borough (starting with E09)."
   ]
  },
  {
   "cell_type": "code",
   "execution_count": 3,
   "id": "e2efb161-fd69-4031-aa65-ff66fbafb273",
   "metadata": {},
   "outputs": [],
   "source": [
    "## import packages\n",
    "import pandas as pd"
   ]
  },
  {
   "cell_type": "code",
   "execution_count": 18,
   "id": "79324d5d-7574-4856-9c09-fd8d66d23583",
   "metadata": {},
   "outputs": [
    {
     "name": "stderr",
     "output_type": "stream",
     "text": [
      "C:\\Users\\13908\\AppData\\Local\\Temp\\ipykernel_1604\\3187936225.py:2: DtypeWarning: Columns (0,2) have mixed types. Specify dtype option on import or set low_memory=False.\n",
      "  acc = pd.read_csv(\"dft-road-casualty-statistics-collision-last-5-years.csv\")\n"
     ]
    },
    {
     "name": "stdout",
     "output_type": "stream",
     "text": [
      "       accident_index  accident_year accident_reference  \\\n",
      "0       2018010080971           2018           10080971   \n",
      "1       2018010080973           2018           10080973   \n",
      "2       2018010080974           2018           10080974   \n",
      "3       2018010080981           2018           10080981   \n",
      "4       2018010080982           2018           10080982   \n",
      "...               ...            ...                ...   \n",
      "522101  2022481292382           2022          481292382   \n",
      "522102  2022481292397           2022          481292397   \n",
      "522103  2022481292410           2022          481292410   \n",
      "522104  2022481292425           2022          481292425   \n",
      "522105  2022481292435           2022          481292435   \n",
      "\n",
      "        location_easting_osgr  location_northing_osgr  longitude   latitude  \\\n",
      "0                    529150.0                182270.0  -0.139737  51.524587   \n",
      "1                    542020.0                184290.0   0.046471  51.539651   \n",
      "2                    531720.0                182910.0  -0.102474  51.529746   \n",
      "3                    541450.0                183220.0   0.037828  51.530179   \n",
      "4                    543580.0                176500.0   0.065781  51.469258   \n",
      "...                       ...                     ...        ...        ...   \n",
      "522101               531938.0                180948.0  -0.100093  51.512063   \n",
      "522102               533151.0                181140.0  -0.082551  51.513504   \n",
      "522103               532553.0                180786.0  -0.091297  51.510463   \n",
      "522104               533054.0                181236.0  -0.083912  51.514390   \n",
      "522105               533626.0                181111.0  -0.075721  51.513132   \n",
      "\n",
      "        police_force  accident_severity  number_of_vehicles  ...  \\\n",
      "0                  1                  3                   2  ...   \n",
      "1                  1                  3                   1  ...   \n",
      "2                  1                  3                   2  ...   \n",
      "3                  1                  2                   2  ...   \n",
      "4                  1                  2                   2  ...   \n",
      "...              ...                ...                 ...  ...   \n",
      "522101            48                  2                   1  ...   \n",
      "522102            48                  2                   2  ...   \n",
      "522103            48                  3                   2  ...   \n",
      "522104            48                  2                   1  ...   \n",
      "522105            48                  2                   2  ...   \n",
      "\n",
      "        pedestrian_crossing_physical_facilities light_conditions  \\\n",
      "0                                             0                4   \n",
      "1                                             0                4   \n",
      "2                                             5                4   \n",
      "3                                             5                4   \n",
      "4                                             0                4   \n",
      "...                                         ...              ...   \n",
      "522101                                        8                4   \n",
      "522102                                        0                4   \n",
      "522103                                        4                1   \n",
      "522104                                        5                1   \n",
      "522105                                        0                4   \n",
      "\n",
      "        weather_conditions road_surface_conditions  \\\n",
      "0                        1                       1   \n",
      "1                        1                       1   \n",
      "2                        1                       1   \n",
      "3                        2                       2   \n",
      "4                        1                       2   \n",
      "...                    ...                     ...   \n",
      "522101                   8                       2   \n",
      "522102                   1                       4   \n",
      "522103                   1                       1   \n",
      "522104                   1                       1   \n",
      "522105                   1                       1   \n",
      "\n",
      "        special_conditions_at_site carriageway_hazards urban_or_rural_area  \\\n",
      "0                                0                   0                   1   \n",
      "1                                0                   0                   1   \n",
      "2                                0                   0                   1   \n",
      "3                                0                   0                   1   \n",
      "4                                0                   0                   1   \n",
      "...                            ...                 ...                 ...   \n",
      "522101                           0                   0                   1   \n",
      "522102                           0                   0                   1   \n",
      "522103                           0                   0                   1   \n",
      "522104                           0                   0                   1   \n",
      "522105                           0                   0                   1   \n",
      "\n",
      "        did_police_officer_attend_scene_of_accident  trunk_road_flag  \\\n",
      "0                                                 1                2   \n",
      "1                                                 1                2   \n",
      "2                                                 1                2   \n",
      "3                                                 1                2   \n",
      "4                                                 1                2   \n",
      "...                                             ...              ...   \n",
      "522101                                            1                2   \n",
      "522102                                            1                2   \n",
      "522103                                            3                2   \n",
      "522104                                            1                2   \n",
      "522105                                            1                2   \n",
      "\n",
      "        lsoa_of_accident_location  \n",
      "0                       E01000854  \n",
      "1                       E01003531  \n",
      "2                       E01002723  \n",
      "3                       E01003492  \n",
      "4                       E01001682  \n",
      "...                           ...  \n",
      "522101                  E01032739  \n",
      "522102                  E01032739  \n",
      "522103                  E01032739  \n",
      "522104                  E01032739  \n",
      "522105                  E01000005  \n",
      "\n",
      "[118523 rows x 36 columns]\n"
     ]
    }
   ],
   "source": [
    "## Read in the road safety data:\n",
    "acc = pd.read_csv(\"dft-road-casualty-statistics-collision-last-5-years.csv\")\n",
    "\n",
    "# Delete rows containing NA values\n",
    "acc.dropna(inplace=True)\n",
    "\n",
    "# Filter out data starting with 'E09' in the ‘lsoa_of_casualty' column\n",
    "acc = acc[acc['local_authority_highway'].str.contains('E09', na=False)]\n",
    "print(acc)"
   ]
  },
  {
   "cell_type": "markdown",
   "id": "ffb414c9-2308-4236-8d58-14b7ceb14483",
   "metadata": {},
   "source": [
    "Next, We will remove columns unrelated to the research, such as longitude and latitude."
   ]
  },
  {
   "cell_type": "markdown",
   "id": "3996a07c-dbb3-4da1-8d17-05f44deb6f2d",
   "metadata": {},
   "source": [
    "## References"
   ]
  },
  {
   "cell_type": "markdown",
   "id": "0cf23fa1-bb07-41a3-a896-bfcc0099bc62",
   "metadata": {},
   "source": [
    "Ahmed, S. K., Mohammed, M. G., Abdulqadir, S. O., El‐Kader, R. G. A., El‐Shall, N. A., Chandran, D., Rehman, M. E. U. and Dhama, K. (2023). *Road traffic accidental injuries and deaths: A neglected global health issue*. Health Science Reports, 6(5), e1240-n/a. https://doi.org/10.1002/hsr2.1240\n",
    "\n",
    "Behnood, A. and Al-Bdairi, N. S. S. (2020). *Determinant of injury severities in large truck crashes: A weekly instability analysis*. Safety Science, 131, 104911-. https://doi.org/10.1016/j.ssci.2020.104911\n",
    "\n",
    "Chen, F., Song, M., & Ma, X. (2019). *Investigation on the injury severity of drivers in rear-end collisions between cars using a random parameters bivariate ordered probit model*. International Journal of Environmental Research and Public Health, 16(14), 2632-. https://doi.org/10.3390/ijerph16142632\n",
    "\n",
    "Curiel, R. P., Ramírez, H. G. and Bishop, S. R. (2018). *A novel rare event approach to measure the randomness and concentration of road accidents*. PloS One, 13(8), e0201890–e0201890. https://doi.org/10.1371/journal.pone.0201890\n",
    "\n",
    "Department for Transport (2023). *Reported road casualties Great Britain, annual report: 2022*. Available at: https://www.gov.uk/government/statistics/reported-road-casualties-great-britain-annual-report-2022/reported-road-casualties-great-britain-annual-report-2022 (Accessed: 15 March 2024).\n",
    "\n",
    "Department for Transport (2023). *Road Safety Data*. Available at: https://www.data.gov.uk/dataset/cb7ae6f0-4be6-4935-9277-47e5ce24a11f/road-safety-data (Accessed: 15 March 2024).\n",
    "\n",
    "El-Basyouny, K., Barua, S., Islam, M. T. and Li, R. (2014). *Assessing the Effect of Weather States on Crash Severity and Type by Use of Full Bayesian Multivariate Safety Models*. Transportation Research Record, 2432(1), 65–73. https://doi.org/10.3141/2432-08\n",
    "\n",
    "J. R. Quinlan. (1986). *Induction of decision trees*. Machine Learning, 1(1): 81-106.\n",
    "\n",
    "Liu, J., Li, J., Wang, K., Zhao, J., Cong, H. and He, P. (2019). *Exploring factors affecting the severity of night-time vehicle accidents under low illumination conditions*. Advances in Mechanical Engineering, 11(4), 168781401984094-. https://doi.org/10.1177/1687814019840940\n",
    "\n",
    "Kononen, D. W., Flannagan, C. A. C. and Wang, S. C. (2011). *Identification and validation of a logistic regression model for predicting serious injuries associated with motor vehicle crashes*. Accident Analysis and Prevention, 43(1), 112–122. https://doi.org/10.1016/j.aap.2010.07.018\n",
    "\n",
    "Mallahi, I. E., Dlia, A., Riffi, J., Mahraz, M. A. and Tairi, H. (2022). *Prediction of Traffic Accidents using Random Forest Model*. 2022 International Conference on Intelligent Systems and Computer Vision (ISCV), 1–7. https://doi.org/10.1109/ISCV54655.2022.9806099\n",
    "\n",
    "\n",
    "Moral-García, S., Castellano, J. G., Mantas, C. J., Montella, A. and Abellán, J. (2019). *Decision tree ensemble method for analyzing traffic accidents of novice drivers in urban areas*. Entropy (Basel, Switzerland), 21(4), 360-. https://doi.org/10.3390/e21040360\n",
    "\n",
    "\n",
    "World Health Organization (2023). *Road traffic injuries*. Available at: https://www.who.int/en/news-room/fact-sheets/detail/road-traffic-injuries (Accessed: 15 March 2024).\n",
    "\n",
    "Yu, L., Du, B., Hu, X., Sun, L., Han, L. and Lv, W. (2021). *Deep spatio-temporal graph convolutional network for traffic accident prediction*. Neurocomputing (Amsterdam), 423, 135–147. https://doi.org/10.1016/j.neucom.2020.09.043\n"
   ]
  },
  {
   "cell_type": "code",
   "execution_count": null,
   "id": "9e981ab7-0edb-434e-acbb-66023f3432b9",
   "metadata": {},
   "outputs": [],
   "source": []
  }
 ],
 "metadata": {
  "kernelspec": {
   "display_name": "Python 3 (ipykernel)",
   "language": "python",
   "name": "python3"
  },
  "language_info": {
   "codemirror_mode": {
    "name": "ipython",
    "version": 3
   },
   "file_extension": ".py",
   "mimetype": "text/x-python",
   "name": "python",
   "nbconvert_exporter": "python",
   "pygments_lexer": "ipython3",
   "version": "3.9.0"
  }
 },
 "nbformat": 4,
 "nbformat_minor": 5
}
