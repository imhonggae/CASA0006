{
 "cells": [
  {
   "cell_type": "markdown",
   "id": "18a2d35b-e715-4900-b967-d018d39f1ac4",
   "metadata": {},
   "source": [
    "# **Using machine learning algorithms to predict the severity of traffic accidents in London**"
   ]
  },
  {
   "cell_type": "markdown",
   "id": "4a6442a3-8df6-4593-b687-1079e0c416c3",
   "metadata": {},
   "source": [
    "## Introduction"
   ]
  },
  {
   "cell_type": "markdown",
   "id": "a1527f07-dd79-4b23-86a1-f857fa824060",
   "metadata": {},
   "source": [
    "Road traffic accidents have a significant impact on the mortality rates of both developing and developed countries around the world. The World Health Organization points out that road traffic accidents are the main cause of death among young people (aged 5-29) (World Health Organization, 2023). About 1.19 million people die in road traffic accidents every year, which is equivalent to 3300 people dying every day due to traffic accidents. Moreover, the number of deaths from road traffic accidents is continuously increasing. By 2030, road traffic injuries will become the seventh leading cause of death globally (Ahmed, S. K et al., 2023). Although overall, the number of traffic accident fatalities in the UK has been decreasing since 1979, in recent years, particularly between 2021 and 2022, the reported number of road injuries in the UK has increased (Department for Transport, 2023). Studies have shown that the locations of road accidents are not random, and they are often highly concentrated in urban areas (Curiel, Ram í rez and Bishop, 2018). As the largest city in the UK, London faces busy traffic every day, which is the best research target. Therefore, we will predict the severity of road traffic accidents in London. These studies may help hospitals and traffic police departments optimize the deployment of emergency resources such as medical rescue and police."
   ]
  },
  {
   "cell_type": "markdown",
   "id": "a6b5f1ae-7b3c-427c-9367-90262ffee022",
   "metadata": {},
   "source": [
    "## Literature review"
   ]
  },
  {
   "cell_type": "markdown",
   "id": "8aa53202-4331-46c3-88fb-dd22cab46291",
   "metadata": {},
   "source": [
    "At present, there are already some studies on predicting road traffic accidents. Choosing which variables is a prerequisite for predicting the severity of traffic accidents, as these are inputs to the traffic accident severity prediction model. Yu et al. (2021) proposed a deep spatial-temporal graph convolutional network (DSTGCN) aimed at predicting the risk of future traffic accidents on specific road sections. They collect data related to traffic accidents, including weather conditions, traffic flow, road structure, and traffic accident records. And use it as input for the neural network model to explore spatial correlation and temporal dependence. For example, adverse weather conditions such as rain and snow can have a negative impact on the severity of traffic accidents (El Basyoung, 2014). Accidents that occur during the day cause less harm than those that occur at night, as reduced visibility can affect the driver's reaction speed, leading to accidents and even fatalities (Behnood and Al Badairi, 2020). Similarly, Liu et al. (2019) determined that lighting conditions are one of the important factors affecting the severity of nighttime traffic accidents in China. These factors all provide ideas for this study.\n",
    "\n",
    "In terms of research methods, decision tree is a machine learning model based on tree structure for decision-making, which recursively divides data into different categories (Quinlan, 1986). Moral Garc í a et al. (2019) proposed a method called Information Root Node Variation (IRNV) based on decision trees to predict the severity of accidents for novice drivers in urban areas. Kononen et al. (2011) developed a multivariate logistic regression model to predict the probability of a vehicle involved in a collision containing one or more serious or disabled occupants. Random Forest (RF) has also been proven to be useful for predicting the severity of traffic accidents (Mallahi et al., 2022). They compared the prediction accuracy of RF, Support Vector Machine (SVM), and Artificial Neural Network (ANN) and found that RF performs better in classifying and predicting the severity of traffic accidents. These studies indicate the possibility of using machine learning models to predict the severity of accidents based on data related to traffic accidents. But when using machine learning for prediction, multiple different models should be used to determine the most suitable method for this study by comparing their accuracy."
   ]
  },
  {
   "cell_type": "markdown",
   "id": "0bad9edb-039f-43bb-a656-ab0373a91d96",
   "metadata": {},
   "source": [
    "## Research question"
   ]
  },
  {
   "cell_type": "markdown",
   "id": "b251ed13-990b-4ab4-9bb9-8624a49fdc03",
   "metadata": {},
   "source": [
    "Performance of Different Machine Learning Algorithms in Predicting the Severity of London Traffic Accidents"
   ]
  },
  {
   "cell_type": "markdown",
   "id": "020a135a-ea74-4ccf-872a-b4e3e89f1dde",
   "metadata": {},
   "source": [
    "## Data Preprocessing"
   ]
  },
  {
   "cell_type": "markdown",
   "id": "ca292ca1-2e7a-44a0-a457-0af8025a6cdf",
   "metadata": {},
   "source": [
    "All the data used in this study were sourced from the UK Department of Transport (2023), an official website of a government agency with strong reliability in its data sources. This dataset records the severity, road conditions, and relevant environmental information of each traffic accident in the UK from 2018 to 2023. In this study, we will only select accidents within the London area for analysis."
   ]
  },
  {
   "cell_type": "markdown",
   "id": "5f3fd071-7626-42dd-a36f-95dfaf1c0551",
   "metadata": {},
   "source": [
    "Firstly, read our dataset, remove rows with empty values, and select the London borough (starting with E09)."
   ]
  },
  {
   "cell_type": "code",
   "execution_count": 41,
   "id": "e2efb161-fd69-4031-aa65-ff66fbafb273",
   "metadata": {},
   "outputs": [],
   "source": [
    "## import packages\n",
    "import pandas as pd\n",
    "import numpy as np\n",
    "from IPython.display import Image\n",
    "import sklearn\n",
    "from sklearn.model_selection import train_test_split, GridSearchCV\n",
    "from sklearn.ensemble import RandomForestClassifier\n",
    "from sklearn.metrics import classification_report\n",
    "import rfpimp\n",
    "from sklearn.tree import DecisionTreeClassifier"
   ]
  },
  {
   "cell_type": "code",
   "execution_count": 2,
   "id": "79324d5d-7574-4856-9c09-fd8d66d23583",
   "metadata": {},
   "outputs": [
    {
     "name": "stderr",
     "output_type": "stream",
     "text": [
      "C:\\Users\\13908\\AppData\\Local\\Temp\\ipykernel_21216\\937632192.py:2: DtypeWarning: Columns (0,2) have mixed types. Specify dtype option on import or set low_memory=False.\n",
      "  acc = pd.read_csv(\"dft-road-casualty-statistics-collision-last-5-years.csv\")\n"
     ]
    },
    {
     "name": "stdout",
     "output_type": "stream",
     "text": [
      "There are 118523 x 36 data in the dataset\n",
      "  accident_index  accident_year accident_reference  location_easting_osgr  \\\n",
      "0  2018010080971           2018           10080971               529150.0   \n",
      "1  2018010080973           2018           10080973               542020.0   \n",
      "2  2018010080974           2018           10080974               531720.0   \n",
      "3  2018010080981           2018           10080981               541450.0   \n",
      "4  2018010080982           2018           10080982               543580.0   \n",
      "\n",
      "   location_northing_osgr  longitude   latitude  police_force  \\\n",
      "0                182270.0  -0.139737  51.524587             1   \n",
      "1                184290.0   0.046471  51.539651             1   \n",
      "2                182910.0  -0.102474  51.529746             1   \n",
      "3                183220.0   0.037828  51.530179             1   \n",
      "4                176500.0   0.065781  51.469258             1   \n",
      "\n",
      "   accident_severity  number_of_vehicles  ...  \\\n",
      "0                  3                   2  ...   \n",
      "1                  3                   1  ...   \n",
      "2                  3                   2  ...   \n",
      "3                  2                   2  ...   \n",
      "4                  2                   2  ...   \n",
      "\n",
      "   pedestrian_crossing_physical_facilities light_conditions  \\\n",
      "0                                        0                4   \n",
      "1                                        0                4   \n",
      "2                                        5                4   \n",
      "3                                        5                4   \n",
      "4                                        0                4   \n",
      "\n",
      "   weather_conditions road_surface_conditions  special_conditions_at_site  \\\n",
      "0                   1                       1                           0   \n",
      "1                   1                       1                           0   \n",
      "2                   1                       1                           0   \n",
      "3                   2                       2                           0   \n",
      "4                   1                       2                           0   \n",
      "\n",
      "  carriageway_hazards urban_or_rural_area  \\\n",
      "0                   0                   1   \n",
      "1                   0                   1   \n",
      "2                   0                   1   \n",
      "3                   0                   1   \n",
      "4                   0                   1   \n",
      "\n",
      "   did_police_officer_attend_scene_of_accident  trunk_road_flag  \\\n",
      "0                                            1                2   \n",
      "1                                            1                2   \n",
      "2                                            1                2   \n",
      "3                                            1                2   \n",
      "4                                            1                2   \n",
      "\n",
      "   lsoa_of_accident_location  \n",
      "0                  E01000854  \n",
      "1                  E01003531  \n",
      "2                  E01002723  \n",
      "3                  E01003492  \n",
      "4                  E01001682  \n",
      "\n",
      "[5 rows x 36 columns]\n"
     ]
    }
   ],
   "source": [
    "## Read in the road safety data:\n",
    "acc = pd.read_csv(\"dft-road-casualty-statistics-collision-last-5-years.csv\")\n",
    "\n",
    "# Delete rows containing NA values\n",
    "acc.dropna(inplace=True)\n",
    "\n",
    "# Filter out data starting with 'E09' in the ‘lsoa_of_casualty' column\n",
    "acc = acc[acc['local_authority_highway'].str.contains('E09', na=False)]\n",
    "\n",
    "# Display 5 rows of data\n",
    "print(\"There are\", acc.shape[0],\"x\", acc.shape[1], \"data in the dataset\" )\n",
    "print(acc.head())"
   ]
  },
  {
   "cell_type": "markdown",
   "id": "ffb414c9-2308-4236-8d58-14b7ceb14483",
   "metadata": {},
   "source": [
    "Next, we will select dependent and independent variables related to the study, and remove irrelevant variables such as longitude and latitude."
   ]
  },
  {
   "cell_type": "code",
   "execution_count": 3,
   "id": "52f65445-a642-4a90-9c87-46be1be801c0",
   "metadata": {},
   "outputs": [
    {
     "data": {
      "text/html": [
       "<div>\n",
       "<style scoped>\n",
       "    .dataframe tbody tr th:only-of-type {\n",
       "        vertical-align: middle;\n",
       "    }\n",
       "\n",
       "    .dataframe tbody tr th {\n",
       "        vertical-align: top;\n",
       "    }\n",
       "\n",
       "    .dataframe thead th {\n",
       "        text-align: right;\n",
       "    }\n",
       "</style>\n",
       "<table border=\"1\" class=\"dataframe\">\n",
       "  <thead>\n",
       "    <tr style=\"text-align: right;\">\n",
       "      <th></th>\n",
       "      <th>accident_severity</th>\n",
       "      <th>number_of_vehicles</th>\n",
       "      <th>number_of_casualties</th>\n",
       "      <th>road_type</th>\n",
       "      <th>speed_limit</th>\n",
       "      <th>road_surface_conditions</th>\n",
       "      <th>special_conditions_at_site</th>\n",
       "      <th>urban_or_rural_area</th>\n",
       "      <th>trunk_road_flag</th>\n",
       "      <th>light_conditions</th>\n",
       "      <th>weather_conditions</th>\n",
       "      <th>time</th>\n",
       "      <th>date</th>\n",
       "    </tr>\n",
       "  </thead>\n",
       "  <tbody>\n",
       "    <tr>\n",
       "      <th>0</th>\n",
       "      <td>3</td>\n",
       "      <td>2</td>\n",
       "      <td>2</td>\n",
       "      <td>3</td>\n",
       "      <td>30</td>\n",
       "      <td>1</td>\n",
       "      <td>0</td>\n",
       "      <td>1</td>\n",
       "      <td>2</td>\n",
       "      <td>4</td>\n",
       "      <td>1</td>\n",
       "      <td>01:30</td>\n",
       "      <td>01/01/2018</td>\n",
       "    </tr>\n",
       "    <tr>\n",
       "      <th>1</th>\n",
       "      <td>3</td>\n",
       "      <td>1</td>\n",
       "      <td>1</td>\n",
       "      <td>6</td>\n",
       "      <td>30</td>\n",
       "      <td>1</td>\n",
       "      <td>0</td>\n",
       "      <td>1</td>\n",
       "      <td>2</td>\n",
       "      <td>4</td>\n",
       "      <td>1</td>\n",
       "      <td>00:50</td>\n",
       "      <td>01/01/2018</td>\n",
       "    </tr>\n",
       "    <tr>\n",
       "      <th>2</th>\n",
       "      <td>3</td>\n",
       "      <td>2</td>\n",
       "      <td>1</td>\n",
       "      <td>6</td>\n",
       "      <td>20</td>\n",
       "      <td>1</td>\n",
       "      <td>0</td>\n",
       "      <td>1</td>\n",
       "      <td>2</td>\n",
       "      <td>4</td>\n",
       "      <td>1</td>\n",
       "      <td>00:45</td>\n",
       "      <td>01/01/2018</td>\n",
       "    </tr>\n",
       "    <tr>\n",
       "      <th>3</th>\n",
       "      <td>2</td>\n",
       "      <td>2</td>\n",
       "      <td>1</td>\n",
       "      <td>3</td>\n",
       "      <td>30</td>\n",
       "      <td>2</td>\n",
       "      <td>0</td>\n",
       "      <td>1</td>\n",
       "      <td>2</td>\n",
       "      <td>4</td>\n",
       "      <td>2</td>\n",
       "      <td>03:00</td>\n",
       "      <td>01/01/2018</td>\n",
       "    </tr>\n",
       "    <tr>\n",
       "      <th>4</th>\n",
       "      <td>2</td>\n",
       "      <td>2</td>\n",
       "      <td>2</td>\n",
       "      <td>6</td>\n",
       "      <td>30</td>\n",
       "      <td>2</td>\n",
       "      <td>0</td>\n",
       "      <td>1</td>\n",
       "      <td>2</td>\n",
       "      <td>4</td>\n",
       "      <td>1</td>\n",
       "      <td>02:20</td>\n",
       "      <td>01/01/2018</td>\n",
       "    </tr>\n",
       "  </tbody>\n",
       "</table>\n",
       "</div>"
      ],
      "text/plain": [
       "   accident_severity  number_of_vehicles  number_of_casualties  road_type  \\\n",
       "0                  3                   2                     2          3   \n",
       "1                  3                   1                     1          6   \n",
       "2                  3                   2                     1          6   \n",
       "3                  2                   2                     1          3   \n",
       "4                  2                   2                     2          6   \n",
       "\n",
       "   speed_limit  road_surface_conditions  special_conditions_at_site  \\\n",
       "0           30                        1                           0   \n",
       "1           30                        1                           0   \n",
       "2           20                        1                           0   \n",
       "3           30                        2                           0   \n",
       "4           30                        2                           0   \n",
       "\n",
       "   urban_or_rural_area  trunk_road_flag  light_conditions  weather_conditions  \\\n",
       "0                    1                2                 4                   1   \n",
       "1                    1                2                 4                   1   \n",
       "2                    1                2                 4                   1   \n",
       "3                    1                2                 4                   2   \n",
       "4                    1                2                 4                   1   \n",
       "\n",
       "    time        date  \n",
       "0  01:30  01/01/2018  \n",
       "1  00:50  01/01/2018  \n",
       "2  00:45  01/01/2018  \n",
       "3  03:00  01/01/2018  \n",
       "4  02:20  01/01/2018  "
      ]
     },
     "execution_count": 3,
     "metadata": {},
     "output_type": "execute_result"
    }
   ],
   "source": [
    "selected_columns = [\n",
    "    'accident_severity',\n",
    "    'number_of_vehicles',\n",
    "    'number_of_casualties',\n",
    "    'road_type',\n",
    "    'speed_limit',\n",
    "    'road_surface_conditions',\n",
    "    'special_conditions_at_site',\n",
    "    'urban_or_rural_area',\n",
    "    'trunk_road_flag',\n",
    "    'light_conditions',\n",
    "    'weather_conditions',\n",
    "    'time',\n",
    "    'date'\n",
    "]\n",
    "\n",
    "acc = acc[selected_columns]\n",
    "acc.head()"
   ]
  },
  {
   "cell_type": "markdown",
   "id": "bb7901a8-020c-494c-8aa8-2963d4a6031b",
   "metadata": {},
   "source": [
    "As can be seen, except for time and date, all variables are already numerical variables. For time, when analyzing traffic accidents, it is common to focus on the time period during which the accident occurred. Hourly units may be more suitable for data granularity and sufficient to provide sufficient accuracy. Using minutes as a unit will increase the burden of model training and reduce prediction efficiency. For dates, focusing only on the month is more likely to improve the accuracy of the model. Because the severity of traffic accidents is not directly related to the year and day, while the month is related to the season, such as the possibility of more blizzard weather in winter. Therefore, we made modifications to these two variables."
   ]
  },
  {
   "cell_type": "code",
   "execution_count": 4,
   "id": "dc595a0d-e836-40da-8a9a-451523b6171b",
   "metadata": {},
   "outputs": [],
   "source": [
    "acc['hour'] = acc['time'].str.split(':').str[0].astype(int).astype(str)\n",
    "acc['month'] = acc['date'].apply(lambda x: x.split('/')[1]).astype(int).astype(str)"
   ]
  },
  {
   "cell_type": "code",
   "execution_count": 5,
   "id": "6d570877-3cba-448e-95dd-9aee4e9a69ff",
   "metadata": {},
   "outputs": [
    {
     "data": {
      "text/html": [
       "<div>\n",
       "<style scoped>\n",
       "    .dataframe tbody tr th:only-of-type {\n",
       "        vertical-align: middle;\n",
       "    }\n",
       "\n",
       "    .dataframe tbody tr th {\n",
       "        vertical-align: top;\n",
       "    }\n",
       "\n",
       "    .dataframe thead th {\n",
       "        text-align: right;\n",
       "    }\n",
       "</style>\n",
       "<table border=\"1\" class=\"dataframe\">\n",
       "  <thead>\n",
       "    <tr style=\"text-align: right;\">\n",
       "      <th></th>\n",
       "      <th>accident_severity</th>\n",
       "      <th>number_of_vehicles</th>\n",
       "      <th>number_of_casualties</th>\n",
       "      <th>road_type</th>\n",
       "      <th>speed_limit</th>\n",
       "      <th>road_surface_conditions</th>\n",
       "      <th>special_conditions_at_site</th>\n",
       "      <th>urban_or_rural_area</th>\n",
       "      <th>trunk_road_flag</th>\n",
       "      <th>light_conditions</th>\n",
       "      <th>weather_conditions</th>\n",
       "      <th>hour</th>\n",
       "      <th>month</th>\n",
       "    </tr>\n",
       "  </thead>\n",
       "  <tbody>\n",
       "    <tr>\n",
       "      <th>0</th>\n",
       "      <td>3</td>\n",
       "      <td>2</td>\n",
       "      <td>2</td>\n",
       "      <td>3</td>\n",
       "      <td>30</td>\n",
       "      <td>1</td>\n",
       "      <td>0</td>\n",
       "      <td>1</td>\n",
       "      <td>2</td>\n",
       "      <td>4</td>\n",
       "      <td>1</td>\n",
       "      <td>1</td>\n",
       "      <td>1</td>\n",
       "    </tr>\n",
       "    <tr>\n",
       "      <th>1</th>\n",
       "      <td>3</td>\n",
       "      <td>1</td>\n",
       "      <td>1</td>\n",
       "      <td>6</td>\n",
       "      <td>30</td>\n",
       "      <td>1</td>\n",
       "      <td>0</td>\n",
       "      <td>1</td>\n",
       "      <td>2</td>\n",
       "      <td>4</td>\n",
       "      <td>1</td>\n",
       "      <td>0</td>\n",
       "      <td>1</td>\n",
       "    </tr>\n",
       "    <tr>\n",
       "      <th>2</th>\n",
       "      <td>3</td>\n",
       "      <td>2</td>\n",
       "      <td>1</td>\n",
       "      <td>6</td>\n",
       "      <td>20</td>\n",
       "      <td>1</td>\n",
       "      <td>0</td>\n",
       "      <td>1</td>\n",
       "      <td>2</td>\n",
       "      <td>4</td>\n",
       "      <td>1</td>\n",
       "      <td>0</td>\n",
       "      <td>1</td>\n",
       "    </tr>\n",
       "    <tr>\n",
       "      <th>3</th>\n",
       "      <td>2</td>\n",
       "      <td>2</td>\n",
       "      <td>1</td>\n",
       "      <td>3</td>\n",
       "      <td>30</td>\n",
       "      <td>2</td>\n",
       "      <td>0</td>\n",
       "      <td>1</td>\n",
       "      <td>2</td>\n",
       "      <td>4</td>\n",
       "      <td>2</td>\n",
       "      <td>3</td>\n",
       "      <td>1</td>\n",
       "    </tr>\n",
       "    <tr>\n",
       "      <th>4</th>\n",
       "      <td>2</td>\n",
       "      <td>2</td>\n",
       "      <td>2</td>\n",
       "      <td>6</td>\n",
       "      <td>30</td>\n",
       "      <td>2</td>\n",
       "      <td>0</td>\n",
       "      <td>1</td>\n",
       "      <td>2</td>\n",
       "      <td>4</td>\n",
       "      <td>1</td>\n",
       "      <td>2</td>\n",
       "      <td>1</td>\n",
       "    </tr>\n",
       "  </tbody>\n",
       "</table>\n",
       "</div>"
      ],
      "text/plain": [
       "   accident_severity  number_of_vehicles  number_of_casualties  road_type  \\\n",
       "0                  3                   2                     2          3   \n",
       "1                  3                   1                     1          6   \n",
       "2                  3                   2                     1          6   \n",
       "3                  2                   2                     1          3   \n",
       "4                  2                   2                     2          6   \n",
       "\n",
       "   speed_limit  road_surface_conditions  special_conditions_at_site  \\\n",
       "0           30                        1                           0   \n",
       "1           30                        1                           0   \n",
       "2           20                        1                           0   \n",
       "3           30                        2                           0   \n",
       "4           30                        2                           0   \n",
       "\n",
       "   urban_or_rural_area  trunk_road_flag  light_conditions  weather_conditions  \\\n",
       "0                    1                2                 4                   1   \n",
       "1                    1                2                 4                   1   \n",
       "2                    1                2                 4                   1   \n",
       "3                    1                2                 4                   2   \n",
       "4                    1                2                 4                   1   \n",
       "\n",
       "   hour  month  \n",
       "0     1      1  \n",
       "1     0      1  \n",
       "2     0      1  \n",
       "3     3      1  \n",
       "4     2      1  "
      ]
     },
     "execution_count": 5,
     "metadata": {},
     "output_type": "execute_result"
    }
   ],
   "source": [
    "acc.drop(columns=['time'], inplace=True)\n",
    "acc.drop(columns=['date'], inplace=True)\n",
    "acc['hour'] = acc['hour'].astype(int)\n",
    "acc['month'] = acc['month'].astype(int)\n",
    "acc.head()"
   ]
  },
  {
   "cell_type": "markdown",
   "id": "6899cb5f-23eb-4ffc-8d2e-17b304cef361",
   "metadata": {},
   "source": [
    "Although the variables that need to be studied have been identified, some outliers still need to be removed, such as -1 in the light_conditions variable indicating - Data missing or out of range."
   ]
  },
  {
   "cell_type": "code",
   "execution_count": 35,
   "id": "9a2d2e4d-4a36-4f81-9bbb-83eb448cd7b0",
   "metadata": {},
   "outputs": [
    {
     "name": "stdout",
     "output_type": "stream",
     "text": [
      "There are 104259 x 13 data in the dataset\n"
     ]
    },
    {
     "data": {
      "text/html": [
       "<div>\n",
       "<style scoped>\n",
       "    .dataframe tbody tr th:only-of-type {\n",
       "        vertical-align: middle;\n",
       "    }\n",
       "\n",
       "    .dataframe tbody tr th {\n",
       "        vertical-align: top;\n",
       "    }\n",
       "\n",
       "    .dataframe thead th {\n",
       "        text-align: right;\n",
       "    }\n",
       "</style>\n",
       "<table border=\"1\" class=\"dataframe\">\n",
       "  <thead>\n",
       "    <tr style=\"text-align: right;\">\n",
       "      <th></th>\n",
       "      <th>accident_severity</th>\n",
       "      <th>number_of_vehicles</th>\n",
       "      <th>number_of_casualties</th>\n",
       "      <th>road_type</th>\n",
       "      <th>speed_limit</th>\n",
       "      <th>road_surface_conditions</th>\n",
       "      <th>special_conditions_at_site</th>\n",
       "      <th>urban_or_rural_area</th>\n",
       "      <th>trunk_road_flag</th>\n",
       "      <th>light_conditions</th>\n",
       "      <th>weather_conditions</th>\n",
       "      <th>hour</th>\n",
       "      <th>month</th>\n",
       "    </tr>\n",
       "  </thead>\n",
       "  <tbody>\n",
       "    <tr>\n",
       "      <th>count</th>\n",
       "      <td>104259.000000</td>\n",
       "      <td>104259.000000</td>\n",
       "      <td>104259.000000</td>\n",
       "      <td>104259.000000</td>\n",
       "      <td>104259.000000</td>\n",
       "      <td>104259.000000</td>\n",
       "      <td>104259.000000</td>\n",
       "      <td>104259.000000</td>\n",
       "      <td>104259.000000</td>\n",
       "      <td>104259.000000</td>\n",
       "      <td>104259.000000</td>\n",
       "      <td>104259.000000</td>\n",
       "      <td>104259.000000</td>\n",
       "    </tr>\n",
       "    <tr>\n",
       "      <th>mean</th>\n",
       "      <td>2.832743</td>\n",
       "      <td>1.830115</td>\n",
       "      <td>1.181327</td>\n",
       "      <td>4.891491</td>\n",
       "      <td>27.817359</td>\n",
       "      <td>1.223453</td>\n",
       "      <td>0.086247</td>\n",
       "      <td>1.033100</td>\n",
       "      <td>1.992221</td>\n",
       "      <td>2.030559</td>\n",
       "      <td>1.592515</td>\n",
       "      <td>13.852521</td>\n",
       "      <td>6.690578</td>\n",
       "    </tr>\n",
       "    <tr>\n",
       "      <th>std</th>\n",
       "      <td>0.385669</td>\n",
       "      <td>0.652239</td>\n",
       "      <td>0.561075</td>\n",
       "      <td>1.754186</td>\n",
       "      <td>7.692685</td>\n",
       "      <td>0.455350</td>\n",
       "      <td>0.588260</td>\n",
       "      <td>0.178899</td>\n",
       "      <td>0.087854</td>\n",
       "      <td>1.577178</td>\n",
       "      <td>1.726322</td>\n",
       "      <td>5.456363</td>\n",
       "      <td>3.382191</td>\n",
       "    </tr>\n",
       "    <tr>\n",
       "      <th>min</th>\n",
       "      <td>1.000000</td>\n",
       "      <td>1.000000</td>\n",
       "      <td>1.000000</td>\n",
       "      <td>1.000000</td>\n",
       "      <td>20.000000</td>\n",
       "      <td>1.000000</td>\n",
       "      <td>0.000000</td>\n",
       "      <td>1.000000</td>\n",
       "      <td>1.000000</td>\n",
       "      <td>1.000000</td>\n",
       "      <td>1.000000</td>\n",
       "      <td>0.000000</td>\n",
       "      <td>1.000000</td>\n",
       "    </tr>\n",
       "    <tr>\n",
       "      <th>25%</th>\n",
       "      <td>3.000000</td>\n",
       "      <td>1.000000</td>\n",
       "      <td>1.000000</td>\n",
       "      <td>3.000000</td>\n",
       "      <td>20.000000</td>\n",
       "      <td>1.000000</td>\n",
       "      <td>0.000000</td>\n",
       "      <td>1.000000</td>\n",
       "      <td>2.000000</td>\n",
       "      <td>1.000000</td>\n",
       "      <td>1.000000</td>\n",
       "      <td>10.000000</td>\n",
       "      <td>4.000000</td>\n",
       "    </tr>\n",
       "    <tr>\n",
       "      <th>50%</th>\n",
       "      <td>3.000000</td>\n",
       "      <td>2.000000</td>\n",
       "      <td>1.000000</td>\n",
       "      <td>6.000000</td>\n",
       "      <td>30.000000</td>\n",
       "      <td>1.000000</td>\n",
       "      <td>0.000000</td>\n",
       "      <td>1.000000</td>\n",
       "      <td>2.000000</td>\n",
       "      <td>1.000000</td>\n",
       "      <td>1.000000</td>\n",
       "      <td>15.000000</td>\n",
       "      <td>7.000000</td>\n",
       "    </tr>\n",
       "    <tr>\n",
       "      <th>75%</th>\n",
       "      <td>3.000000</td>\n",
       "      <td>2.000000</td>\n",
       "      <td>1.000000</td>\n",
       "      <td>6.000000</td>\n",
       "      <td>30.000000</td>\n",
       "      <td>1.000000</td>\n",
       "      <td>0.000000</td>\n",
       "      <td>1.000000</td>\n",
       "      <td>2.000000</td>\n",
       "      <td>4.000000</td>\n",
       "      <td>1.000000</td>\n",
       "      <td>18.000000</td>\n",
       "      <td>10.000000</td>\n",
       "    </tr>\n",
       "    <tr>\n",
       "      <th>max</th>\n",
       "      <td>3.000000</td>\n",
       "      <td>13.000000</td>\n",
       "      <td>16.000000</td>\n",
       "      <td>7.000000</td>\n",
       "      <td>70.000000</td>\n",
       "      <td>5.000000</td>\n",
       "      <td>7.000000</td>\n",
       "      <td>2.000000</td>\n",
       "      <td>2.000000</td>\n",
       "      <td>7.000000</td>\n",
       "      <td>9.000000</td>\n",
       "      <td>23.000000</td>\n",
       "      <td>12.000000</td>\n",
       "    </tr>\n",
       "  </tbody>\n",
       "</table>\n",
       "</div>"
      ],
      "text/plain": [
       "       accident_severity  number_of_vehicles  number_of_casualties  \\\n",
       "count      104259.000000       104259.000000         104259.000000   \n",
       "mean            2.832743            1.830115              1.181327   \n",
       "std             0.385669            0.652239              0.561075   \n",
       "min             1.000000            1.000000              1.000000   \n",
       "25%             3.000000            1.000000              1.000000   \n",
       "50%             3.000000            2.000000              1.000000   \n",
       "75%             3.000000            2.000000              1.000000   \n",
       "max             3.000000           13.000000             16.000000   \n",
       "\n",
       "           road_type    speed_limit  road_surface_conditions  \\\n",
       "count  104259.000000  104259.000000            104259.000000   \n",
       "mean        4.891491      27.817359                 1.223453   \n",
       "std         1.754186       7.692685                 0.455350   \n",
       "min         1.000000      20.000000                 1.000000   \n",
       "25%         3.000000      20.000000                 1.000000   \n",
       "50%         6.000000      30.000000                 1.000000   \n",
       "75%         6.000000      30.000000                 1.000000   \n",
       "max         7.000000      70.000000                 5.000000   \n",
       "\n",
       "       special_conditions_at_site  urban_or_rural_area  trunk_road_flag  \\\n",
       "count               104259.000000        104259.000000    104259.000000   \n",
       "mean                     0.086247             1.033100         1.992221   \n",
       "std                      0.588260             0.178899         0.087854   \n",
       "min                      0.000000             1.000000         1.000000   \n",
       "25%                      0.000000             1.000000         2.000000   \n",
       "50%                      0.000000             1.000000         2.000000   \n",
       "75%                      0.000000             1.000000         2.000000   \n",
       "max                      7.000000             2.000000         2.000000   \n",
       "\n",
       "       light_conditions  weather_conditions           hour          month  \n",
       "count     104259.000000       104259.000000  104259.000000  104259.000000  \n",
       "mean           2.030559            1.592515      13.852521       6.690578  \n",
       "std            1.577178            1.726322       5.456363       3.382191  \n",
       "min            1.000000            1.000000       0.000000       1.000000  \n",
       "25%            1.000000            1.000000      10.000000       4.000000  \n",
       "50%            1.000000            1.000000      15.000000       7.000000  \n",
       "75%            4.000000            1.000000      18.000000      10.000000  \n",
       "max            7.000000            9.000000      23.000000      12.000000  "
      ]
     },
     "execution_count": 35,
     "metadata": {},
     "output_type": "execute_result"
    }
   ],
   "source": [
    "# Delete rows with road_type column values of 9 and -1\n",
    "acc = acc[(acc['road_type'] != 9) & (acc['road_type'] != -1)]\n",
    "\n",
    "# Delete rows with values of 99 and -1 in the speed_limit column\n",
    "acc = acc[(acc['speed_limit'] != 99) & (acc['speed_limit'] != -1)]\n",
    "\n",
    "# Delete rows with road_surface_conditions column values of 9 and -1\n",
    "acc = acc[(acc['road_surface_conditions'] != 9) & (acc['road_surface_conditions'] != -1)]\n",
    "\n",
    "# Delete rows with special_conditions_at_site column values of 9 and -1\n",
    "acc = acc[(acc['special_conditions_at_site'] != 9) & (acc['special_conditions_at_site'] != -1)]\n",
    "\n",
    "# Delete rows with urban_or_rural_area column values of -1\n",
    "acc = acc[(acc['urban_or_rural_area'] != -1)]\n",
    "\n",
    "# Delete rows with trunk_road_flag column values of -1\n",
    "acc = acc[(acc['trunk_road_flag'] != -1)]\n",
    "\n",
    "# Delete rows with light_conditions column values of -1\n",
    "acc = acc[(acc['light_conditions'] != -1)]\n",
    "\n",
    "# Delete rows with weather_conditions column values of -1\n",
    "acc = acc[(acc['weather_conditions'] != -1)]\n",
    "\n",
    "print(\"There are\", acc.shape[0],\"x\", acc.shape[1], \"data in the dataset\" )\n",
    "\n",
    "acc.describe()"
   ]
  },
  {
   "cell_type": "markdown",
   "id": "c4ad074e-6710-4b1d-89d6-4b7116d0ad82",
   "metadata": {},
   "source": [
    "Finally, summarize and describe the processed data."
   ]
  },
  {
   "cell_type": "code",
   "execution_count": 7,
   "id": "d573a989-16a7-4922-91e6-98a3c4aeea1d",
   "metadata": {},
   "outputs": [
    {
     "data": {
      "image/jpeg": "[encoded data removed]",
      "text/plain": [
       "<IPython.core.display.Image object>"
      ]
     },
     "execution_count": 7,
     "metadata": {},
     "output_type": "execute_result"
    }
   ],
   "source": [
    "Image(filename='dependent variable.jpg')"
   ]
  },
  {
   "cell_type": "markdown",
   "id": "f71393c1-8054-4538-967a-e490987a4d9f",
   "metadata": {},
   "source": [
    "There is only one dependent variable, which is accident_severity, used to describe the severity of accidents. 1- accidents with fatalities, 2- accidents with severe injuries, and 3- accidents with no injuries or minor injuries."
   ]
  },
  {
   "cell_type": "code",
   "execution_count": 8,
   "id": "99996297-9013-49d6-8803-4d0b2464409a",
   "metadata": {},
   "outputs": [
    {
     "data": {
      "image/png": "[encoded data removed]",
      "text/plain": [
       "<IPython.core.display.Image object>"
      ]
     },
     "execution_count": 8,
     "metadata": {},
     "output_type": "execute_result"
    }
   ],
   "source": [
    "Image(filename='independent variable.png')"
   ]
  },
  {
   "cell_type": "markdown",
   "id": "b9074e1a-7159-497f-b11e-9600ce8b19b6",
   "metadata": {},
   "source": [
    "There are a total of 12 independent variables.\n",
    "\n",
    "The six numbers in road_type represent: 1-Roundabout; 2-One way street; 3-Dual Carriageway; 6-Single carriage; 7-Slip road; 12-One way street/Slip road.\n",
    "\n",
    "The seven numbers in road_surface_conditions represent: 1-Dry; 2-Wet or dump; 3-Snow; 4-Frost or ice; 5-Flood over 3cm Deep; 6-Oil or diesel; 7-Mud.\n",
    "\n",
    "The eight numbers in specific_conditions.at_site represent: 0-None; 1-Auto traffic signal - out; 2-Auto signal part defective; 3-Road sign or marking defective or observed; 4-Roadworks; 5-Road surface defective; 6-Oil or diesel; 7-Mud.\n",
    "\n",
    "The three numbers in urban_or_rural-area represent: 1-Urban; 2-Rural; 3-Unallocated.\n",
    "\n",
    "The two numbers in trunk_road_flag represent: 1-Trunk (Roads managed by Highways England); 2-Non trunk.\n",
    "\n",
    "The five numbers in light_conditions represent: 1-Daylight; 4-Darkness - lights lit; 5-Darkness - lights unlit; 6-Darkness - no lighting; 7-Darkness - lighting unknown.\n",
    "\n",
    "The eight numbers in weather_conditions represent: 1-Fine no high winds; 2-Raining no high winds; 3-Snowing no high winds; 4-Fine+high winds; 5-Rain+high winds; 6-Snowing+high winds; 7-Fog or miss; 8-Other."
   ]
  },
  {
   "cell_type": "markdown",
   "id": "8e2ff244-9b0d-4479-be8c-dd7960cbee06",
   "metadata": {},
   "source": [
    "Now, the dataset contains 118523 traffic accidents and corresponding 1 dependent variable and 12 independent variables."
   ]
  },
  {
   "cell_type": "markdown",
   "id": "d747429e-3562-4a74-984c-91c7e596cf14",
   "metadata": {},
   "source": [
    "## Methodology"
   ]
  },
  {
   "cell_type": "markdown",
   "id": "5d8a4fd8-abc2-4534-ad5c-b00726282b8a",
   "metadata": {},
   "source": [
    "Due to the need to predict the severity of road traffic accidents and the fact that we have already labeled the severity of accidents, machine learning classification algorithms are most suitable for this study. Firstly, we perform cross validation before establishing the model and validating the model parameters in machine learning, dividing the training and testing sets. Next, adjust the hyperparameters of the model and establish prediction models using the random forest algorithm and the classification and regression tree (CART) algorithm respectively. Finally, analyze the predicted results."
   ]
  },
  {
   "cell_type": "markdown",
   "id": "dae22117-c543-4aa9-9670-2cd86e05881b",
   "metadata": {},
   "source": [
    "### Cross Validation"
   ]
  },
  {
   "cell_type": "markdown",
   "id": "6aa535bb-6dba-4f79-812b-4243a9f16b8a",
   "metadata": {},
   "source": [
    "Cross validation is a commonly used method in machine learning to establish models and validate model parameters. Cross validation, as the name suggests, is the repeated use of data, dividing the obtained sample data into different training and testing sets, using the training set to train the model, and using the testing set to evaluate the quality of the model's predictions. On this basis, multiple sets of different training and testing sets can be obtained, and a certain sample in one training set may become a sample in the next test set, which is called \"cross\"."
   ]
  },
  {
   "cell_type": "code",
   "execution_count": 36,
   "id": "882b93f9-28e1-4987-a867-a15a12f2824b",
   "metadata": {},
   "outputs": [
    {
     "name": "stdout",
     "output_type": "stream",
     "text": [
      "(78194, 12)\n",
      "(78194,)\n",
      "(26065, 12)\n",
      "(26065,)\n"
     ]
    }
   ],
   "source": [
    "#Split the data into training and testing subsets \n",
    "random_state_split = 100\n",
    "train_x, test_x, train_y, test_y = train_test_split(acc.drop(['accident_severity'], axis = 1), acc.accident_severity,\n",
    "                                                    random_state=random_state_split)\n",
    "print(train_x.shape)\n",
    "print(train_y.shape)\n",
    "print(test_x.shape)\n",
    "print(test_y.shape)"
   ]
  },
  {
   "cell_type": "markdown",
   "id": "3842086c-682e-4b1d-9dbf-d4c6ee2a6a16",
   "metadata": {},
   "source": [
    "### Random Forest"
   ]
  },
  {
   "cell_type": "markdown",
   "id": "1b7e5831-0e89-4451-b279-6adbb8ccd907",
   "metadata": {},
   "source": [
    "A random forest is a forest established in a random way, with many decision trees inside, and each decision tree in a random forest is not related to each other. After obtaining the forest, when a new input sample enters, let each decision tree in the forest make a judgment to see which class the sample should belong to (for classification algorithms), and then see which class is selected the most to predict which class the sample belongs to."
   ]
  },
  {
   "cell_type": "code",
   "execution_count": 37,
   "id": "ae6765a6-e7b2-4c63-b74e-f5dcc697d982",
   "metadata": {},
   "outputs": [
    {
     "name": "stdout",
     "output_type": "stream",
     "text": [
      "Best hyperparameters: {'max_depth': 10, 'min_samples_split': 8}\n",
      "Best score: 0.8375322920281025\n"
     ]
    }
   ],
   "source": [
    "# Define the hyperparameters for tuning\n",
    "rf_param_grid = {\n",
    "    'max_depth': [10,20,30,40,50],\n",
    "    'min_samples_split': [2, 4, 6, 8]\n",
    "}\n",
    "\n",
    "# Define Random Forest model\n",
    "model_rf = RandomForestClassifier()\n",
    "\n",
    "# Perform hyperparameter tuning using gridsearch\n",
    "rf_grid_search = GridSearchCV(model_rf, rf_param_grid)\n",
    "rf_grid_search.fit(train_x,train_y)\n",
    "print('Best hyperparameters:', rf_grid_search.best_params_)\n",
    "print('Best score:', rf_grid_search.best_score_)"
   ]
  },
  {
   "cell_type": "code",
   "execution_count": 47,
   "id": "242e4996-b775-4914-9f25-72288f653636",
   "metadata": {},
   "outputs": [
    {
     "name": "stdout",
     "output_type": "stream",
     "text": [
      "              precision    recall  f1-score   support\n",
      "\n",
      "           1   0.000000  0.000000  0.000000       128\n",
      "           2   0.000000  0.000000  0.000000      4113\n",
      "           3   0.837291  1.000000  0.911441     21824\n",
      "\n",
      "    accuracy                       0.837291     26065\n",
      "   macro avg   0.279097  0.333333  0.303814     26065\n",
      "weighted avg   0.701057  0.837291  0.763142     26065\n",
      "\n"
     ]
    },
    {
     "name": "stderr",
     "output_type": "stream",
     "text": [
      "d:\\python3.9.0\\lib\\site-packages\\sklearn\\metrics\\_classification.py:1509: UndefinedMetricWarning: Precision is ill-defined and being set to 0.0 in labels with no predicted samples. Use `zero_division` parameter to control this behavior.\n",
      "  _warn_prf(average, modifier, f\"{metric.capitalize()} is\", len(result))\n",
      "d:\\python3.9.0\\lib\\site-packages\\sklearn\\metrics\\_classification.py:1509: UndefinedMetricWarning: Precision is ill-defined and being set to 0.0 in labels with no predicted samples. Use `zero_division` parameter to control this behavior.\n",
      "  _warn_prf(average, modifier, f\"{metric.capitalize()} is\", len(result))\n",
      "d:\\python3.9.0\\lib\\site-packages\\sklearn\\metrics\\_classification.py:1509: UndefinedMetricWarning: Precision is ill-defined and being set to 0.0 in labels with no predicted samples. Use `zero_division` parameter to control this behavior.\n",
      "  _warn_prf(average, modifier, f\"{metric.capitalize()} is\", len(result))\n"
     ]
    }
   ],
   "source": [
    "#Train the Random Forest model\n",
    "random_forest = RandomForestClassifier(max_depth=rf_grid_search.best_params_['max_depth'], min_samples_split=rf_grid_search.best_params_['min_samples_split'],\n",
    "                                       random_state=10000)\n",
    "random_forest.fit(train_x,train_y)\n",
    "\n",
    "#Evaluate prediction accuracy of the random forest model based on precision, recall, and F1-score\n",
    "predict_y = random_forest.predict(test_x)\n",
    "print(classification_report(digits=6,y_true=test_y,y_pred=predict_y))"
   ]
  },
  {
   "cell_type": "code",
   "execution_count": 39,
   "id": "0479af03-dfde-438f-9e05-218184aa8641",
   "metadata": {},
   "outputs": [
    {
     "name": "stdout",
     "output_type": "stream",
     "text": [
      "                            Importance\n",
      "Feature                               \n",
      "number_of_vehicles                 0.0\n",
      "number_of_casualties               0.0\n",
      "road_type                          0.0\n",
      "speed_limit                        0.0\n",
      "road_surface_conditions            0.0\n",
      "special_conditions_at_site         0.0\n",
      "urban_or_rural_area                0.0\n",
      "trunk_road_flag                    0.0\n",
      "light_conditions                   0.0\n",
      "weather_conditions                 0.0\n",
      "hour                               0.0\n",
      "month                              0.0\n"
     ]
    },
    {
     "data": {
      "image/png": "[encoded data removed]",
      "text/plain": [
       "<Figure size 400x266 with 1 Axes>"
      ]
     },
     "metadata": {},
     "output_type": "display_data"
    }
   ],
   "source": [
    "imp_rf = rfpimp.importances(random_forest, test_x, test_y)\n",
    "print(imp_rf)\n",
    "\n",
    "vi = rfpimp.plot_importances(imp_rf)\n",
    "vi.view()"
   ]
  },
  {
   "cell_type": "markdown",
   "id": "ce3a1798-a469-4c3e-8b68-a2cb0ab28f1f",
   "metadata": {},
   "source": [
    "### CART"
   ]
  },
  {
   "cell_type": "markdown",
   "id": "c8e11fd4-4062-4bb9-8489-8520a64bceb4",
   "metadata": {},
   "source": [
    "CART is a type of decision tree that simplifies the size of the decision tree and improves the efficiency of generating decision trees compared to ID3 and C4.5 algorithms. The generation of CART decision trees can be divided into two scenarios: classification trees and regression trees. In this study, classification trees will be used for prediction."
   ]
  },
  {
   "cell_type": "code",
   "execution_count": 51,
   "id": "a11f7247-8f4d-44eb-843f-70b371ff8456",
   "metadata": {},
   "outputs": [
    {
     "name": "stdout",
     "output_type": "stream",
     "text": [
      "Tree depth: 39\n",
      "The best parameter value is: \n",
      "{'max_depth': 10, 'min_samples_split': 2}\n",
      "The best score is: \n",
      "0.8339003086333505\n"
     ]
    }
   ],
   "source": [
    "# Default settings\n",
    "cart_default = DecisionTreeClassifier(random_state=0)\n",
    "cart_default.fit(train_x, train_y)\n",
    "# Print the tree depth\n",
    "print(\"Tree depth: {}\".format(cart_default.get_depth()))\n",
    "\n",
    "# Define the hyperparameters for tuning\n",
    "dt_param_grid = {'max_depth':[10,20,30,40,50], 'min_samples_split':[2,4,6,8,10]}\n",
    "model_dt = DecisionTreeClassifier(random_state=10000)\n",
    "dt_grid_search = GridSearchCV(model_dt, dt_param_grid)\n",
    "dt_grid_search.fit(train_x, train_y)\n",
    "\n",
    "# Perform hyperparameter tuning using gridsearch\n",
    "print (\"The best parameter value is: \")\n",
    "print (dt_grid_search.best_params_)\n",
    "print (\"The best score is: \")\n",
    "print (dt_grid_search.best_score_) "
   ]
  },
  {
   "cell_type": "code",
   "execution_count": 52,
   "id": "b449dd7f-46ac-4be1-9dfc-ae3e1591425b",
   "metadata": {},
   "outputs": [
    {
     "name": "stdout",
     "output_type": "stream",
     "text": [
      "              precision    recall  f1-score   support\n",
      "\n",
      "           1   0.071429  0.007812  0.014085       128\n",
      "           2   0.160221  0.007051  0.013507      4113\n",
      "           3   0.837495  0.992760  0.908542     21824\n",
      "\n",
      "    accuracy                       0.832381     26065\n",
      "   macro avg   0.356382  0.335875  0.312045     26065\n",
      "weighted avg   0.726861  0.832381  0.762915     26065\n",
      "\n"
     ]
    }
   ],
   "source": [
    "# Train the CART model\n",
    "CART = DecisionTreeClassifier(max_depth=dt_grid_search.best_params_['max_depth'], min_samples_split=dt_grid_search.best_params_['min_samples_split'], random_state=10000)\n",
    "CART.fit(train_x, train_y)\n",
    "\n",
    "#Evaluate prediction accuracy of the CART model based on precision, recall, and F1-score\n",
    "predict_y = CART.predict(test_x)\n",
    "print(classification_report(digits=6,y_true=test_y,y_pred=predict_y))"
   ]
  },
  {
   "cell_type": "code",
   "execution_count": 45,
   "id": "c917e476-ef82-4149-9b79-769086674cb6",
   "metadata": {},
   "outputs": [
    {
     "name": "stdout",
     "output_type": "stream",
     "text": [
      "                            Importance\n",
      "Feature                               \n",
      "light_conditions                0.0038\n",
      "hour                            0.0028\n",
      "urban_or_rural_area             0.0018\n",
      "road_type                       0.0010\n",
      "number_of_casualties            0.0008\n",
      "road_surface_conditions         0.0008\n",
      "speed_limit                     0.0002\n",
      "special_conditions_at_site      0.0002\n",
      "trunk_road_flag                 0.0000\n",
      "weather_conditions             -0.0004\n",
      "month                          -0.0014\n",
      "number_of_vehicles             -0.0020\n"
     ]
    },
    {
     "data": {
      "image/png": "[encoded data removed]",
      "text/plain": [
       "<Figure size 400x266 with 1 Axes>"
      ]
     },
     "metadata": {},
     "output_type": "display_data"
    }
   ],
   "source": [
    "imp_dt = rfpimp.importances(CART, test_x, test_y)\n",
    "print(imp_dt)\n",
    "\n",
    "vi = rfpimp.plot_importances(imp_dt)\n",
    "vi.view()"
   ]
  },
  {
   "cell_type": "markdown",
   "id": "561a537a-1c18-4e34-9c58-f119c9277ead",
   "metadata": {},
   "source": [
    "The following indicators appear in the model prediction results, which are compared between the predicted results and the actual results when evaluating classifier performance.\n",
    "\n",
    "Precision: The proportion of correctly predicted positives to all predicted positives.\n",
    "\n",
    "Recall: The proportion of correctly predicted positives to all actual positives.\n",
    "\n",
    "F1 score: The harmonic mean of precision and recall.\n",
    "\n",
    "Support: The number of samples in each category or the total number of samples in the test set.\n",
    "\n",
    "Accuracy: The accuracy of model predictions.\n",
    "\n",
    "Macro avg: The average value of all label results.\n",
    "\n",
    "Weighted avg: The weighted average of all label results.\n",
    "\n",
    "Among them, precision, recall, and f1 score are commonly used indicators to evaluate the performance of classifiers."
   ]
  },
  {
   "cell_type": "markdown",
   "id": "7dc56195-8586-42c5-b35a-e1c398726128",
   "metadata": {},
   "source": [
    "## Result and discussion"
   ]
  },
  {
   "cell_type": "markdown",
   "id": "9b8a2b82-60a2-4e8f-a34b-6588a2ad7ee7",
   "metadata": {},
   "source": [
    "The prediction accuracy of the random forest model (83.73%) is slightly higher than that of the CART model (83.24%), indicating that overall, the prediction performance of the random forest model is better than that of the CART model.\n",
    "\n",
    "The random forest model has performed quite well in predicting minor traffic accidents, with an accuracy rate of about 83.73% and a corresponding recall rate of about 100%, indicating that the model has not made any misclassifications in predicting minor traffic accidents. However, the model performs poorly in predicting fatal and serious traffic accidents. Its accuracy and corresponding recall rate are both about 0%. From the F1 score, it can also be seen that the accuracy of the random forest model in predicting minor traffic accidents is far greater than that of fatal and serious traffic accidents. Therefore, random forest models are unable to predict fatal and severe levels of traffic accidents. From the relevant feature importance results, it can be seen that the random forest model believes that these features are not closely related to the severity of traffic accidents.\n",
    "\n",
    "Although the prediction accuracy of the CART model is slightly lower than that of the random forest model, it has shown some effectiveness in predicting fatal and serious traffic accidents. Although the accuracy in predicting fatal traffic accidents is only about 7.14%, and the accuracy in predicting serious traffic accidents is only about 16.02%, compared to the random forest model, it to some extent compensates for the shortcomings in predicting fatal and serious traffic accidents. Meanwhile, the prediction accuracy of the CART model in minor accidents is 83.75%, with a recall rate of approximately 99.28%. This indicates that, similar to the random forest model, most minor accidents are classified correctly. However, in this situation, the random forest model cannot predict serious and fatal traffic accidents. Another difference from the random forest model is that the CART model believes that the three characteristics of lighting conditions, time, and whether the road is located in the city are related to the severity of traffic accidents."
   ]
  },
  {
   "cell_type": "markdown",
   "id": "02756cec-f301-444a-8122-3ffa2d77b4de",
   "metadata": {},
   "source": [
    "## Limitations"
   ]
  },
  {
   "cell_type": "markdown",
   "id": "f24710dd-f455-4ba2-b84a-864229f23068",
   "metadata": {},
   "source": [
    "The accuracy of the random forest model in predicting traffic accidents is generally slightly higher than that of the CART model. Meanwhile, due to the failure of random forests to accurately predict any serious accidents, the CART model performs better in predicting fatalities and severity level accidents. However, both models have low accuracy in predicting fatal and severe levels of traffic accidents, although the CART model is relatively better in this regard. This may be related to the fact that most of the data in the dataset is composed of minor traffic accidents, and there is not enough fatal and severe data for the model to learn.\n",
    "\n",
    "On the other hand, it can be observed from the importance of the selected features in predicting the severity of traffic accidents that both the random forest model and the CART model have lower importance values, indicating that they may not be sufficient to accurately predict the severity of London night traffic accidents. Therefore, it is necessary to supplement or replace the selected features. For example, most of the features in this study focus on roads and the environment. Adding some driver and vehicle characteristics, such as the driver's age, gender, and brand of the accident vehicle, may be helpful."
   ]
  },
  {
   "cell_type": "markdown",
   "id": "07cdcac6-07fc-4df5-afc3-c6d4de1907f8",
   "metadata": {},
   "source": [
    "## Conclusion"
   ]
  },
  {
   "cell_type": "markdown",
   "id": "5fd41ee1-5f2c-4ae5-8c97-f11b0166a2b0",
   "metadata": {},
   "source": [
    "In summary, machine learning has shown good performance in predicting the severity of London road traffic accidents, especially in predicting minor traffic accidents. However, neither of these models can predict fatal and severe traffic accidents. Meanwhile, this study also revealed several characteristics that may be related to the severity of traffic accidents. Future work can focus on improving the accuracy of fatal and serious traffic accidents to help emergency service departments allocate medical and police resources reasonably."
   ]
  },
  {
   "cell_type": "markdown",
   "id": "3996a07c-dbb3-4da1-8d17-05f44deb6f2d",
   "metadata": {},
   "source": [
    "## References"
   ]
  },
  {
   "cell_type": "markdown",
   "id": "0cf23fa1-bb07-41a3-a896-bfcc0099bc62",
   "metadata": {},
   "source": [
    "Ahmed, S. K., Mohammed, M. G., Abdulqadir, S. O., El‐Kader, R. G. A., El‐Shall, N. A., Chandran, D., Rehman, M. E. U. and Dhama, K. (2023). *Road traffic accidental injuries and deaths: A neglected global health issue*. Health Science Reports, 6(5), e1240-n/a. https://doi.org/10.1002/hsr2.1240\n",
    "\n",
    "Behnood, A. and Al-Bdairi, N. S. S. (2020). *Determinant of injury severities in large truck crashes: A weekly instability analysis*. Safety Science, 131, 104911-. https://doi.org/10.1016/j.ssci.2020.104911\n",
    "\n",
    "Chen, F., Song, M., & Ma, X. (2019). *Investigation on the injury severity of drivers in rear-end collisions between cars using a random parameters bivariate ordered probit model*. International Journal of Environmental Research and Public Health, 16(14), 2632-. https://doi.org/10.3390/ijerph16142632\n",
    "\n",
    "Curiel, R. P., Ramírez, H. G. and Bishop, S. R. (2018). *A novel rare event approach to measure the randomness and concentration of road accidents*. PloS One, 13(8), e0201890–e0201890. https://doi.org/10.1371/journal.pone.0201890\n",
    "\n",
    "Department for Transport (2023). *Reported road casualties Great Britain, annual report: 2022*. Available at: https://www.gov.uk/government/statistics/reported-road-casualties-great-britain-annual-report-2022/reported-road-casualties-great-britain-annual-report-2022 (Accessed: 15 March 2024).\n",
    "\n",
    "Department for Transport (2023). *Road Safety Data*. Available at: https://www.data.gov.uk/dataset/cb7ae6f0-4be6-4935-9277-47e5ce24a11f/road-safety-data (Accessed: 15 March 2024).\n",
    "\n",
    "El-Basyouny, K., Barua, S., Islam, M. T. and Li, R. (2014). *Assessing the Effect of Weather States on Crash Severity and Type by Use of Full Bayesian Multivariate Safety Models*. Transportation Research Record, 2432(1), 65–73. https://doi.org/10.3141/2432-08\n",
    "\n",
    "J. R. Quinlan. (1986). *Induction of decision trees*. Machine Learning, 1(1): 81-106.\n",
    "\n",
    "Liu, J., Li, J., Wang, K., Zhao, J., Cong, H. and He, P. (2019). *Exploring factors affecting the severity of night-time vehicle accidents under low illumination conditions*. Advances in Mechanical Engineering, 11(4), 168781401984094-. https://doi.org/10.1177/1687814019840940\n",
    "\n",
    "Kononen, D. W., Flannagan, C. A. C. and Wang, S. C. (2011). *Identification and validation of a logistic regression model for predicting serious injuries associated with motor vehicle crashes*. Accident Analysis and Prevention, 43(1), 112–122. https://doi.org/10.1016/j.aap.2010.07.018\n",
    "\n",
    "Mallahi, I. E., Dlia, A., Riffi, J., Mahraz, M. A. and Tairi, H. (2022). *Prediction of Traffic Accidents using Random Forest Model*. 2022 International Conference on Intelligent Systems and Computer Vision (ISCV), 1–7. https://doi.org/10.1109/ISCV54655.2022.9806099\n",
    "\n",
    "\n",
    "Moral-García, S., Castellano, J. G., Mantas, C. J., Montella, A. and Abellán, J. (2019). *Decision tree ensemble method for analyzing traffic accidents of novice drivers in urban areas*. Entropy (Basel, Switzerland), 21(4), 360-. https://doi.org/10.3390/e21040360\n",
    "\n",
    "\n",
    "World Health Organization (2023). *Road traffic injuries*. Available at: https://www.who.int/en/news-room/fact-sheets/detail/road-traffic-injuries (Accessed: 15 March 2024).\n",
    "\n",
    "Yu, L., Du, B., Hu, X., Sun, L., Han, L. and Lv, W. (2021). *Deep spatio-temporal graph convolutional network for traffic accident prediction*. Neurocomputing (Amsterdam), 423, 135–147. https://doi.org/10.1016/j.neucom.2020.09.043\n"
   ]
  },
  {
   "cell_type": "code",
   "execution_count": null,
   "id": "9e981ab7-0edb-434e-acbb-66023f3432b9",
   "metadata": {},
   "outputs": [],
   "source": []
  }
 ],
 "metadata": {
  "kernelspec": {
   "display_name": "Python 3 (ipykernel)",
   "language": "python",
   "name": "python3"
  },
  "language_info": {
   "codemirror_mode": {
    "name": "ipython",
    "version": 3
   },
   "file_extension": ".py",
   "mimetype": "text/x-python",
   "name": "python",
   "nbconvert_exporter": "python",
   "pygments_lexer": "ipython3",
   "version": "3.9.0"
  }
 },
 "nbformat": 4,
 "nbformat_minor": 5
}
